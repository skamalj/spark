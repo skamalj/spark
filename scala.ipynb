{
 "cells": [
  {
   "cell_type": "code",
   "execution_count": null,
   "source": [
    "from spylon_kernel import register_ipython_magics\n",
    "register_ipython_magics()"
   ],
   "outputs": [],
   "metadata": {}
  },
  {
   "cell_type": "code",
   "execution_count": null,
   "source": [
    "import org.apache.spark.sql.SparkSession\n",
    "import java.sql.Timestamp\n",
    "import org.apache.spark.sql.functions.{timestamp_seconds}\n",
    "import org.apache.spark.sql.Dataset\n",
    "import org.apache.spark.sql.streaming._\n",
    "import org.apache.spark.sql.Row\n",
    "\n",
    "val spark = SparkSession.builder.appName(\"airline\").getOrCreate()\n",
    "import spark.implicits._"
   ],
   "outputs": [],
   "metadata": {}
  },
  {
   "cell_type": "code",
   "execution_count": null,
   "source": [
    "case class Basket(user:String, item:String, quantity:Int, eventtime:Timestamp)\n",
    "case class BasketState(user:String, item:String, quantity:Int, accu:String)\n",
    "\n",
    "val datastream = (spark\n",
    "  .readStream.format(\"socket\")\n",
    "  .option(\"host\", \"localhost\")\n",
    "  .option(\"port\", 4000)\n",
    "  .load())\n",
    "\n"
   ],
   "outputs": [],
   "metadata": {}
  },
  {
   "cell_type": "code",
   "execution_count": null,
   "source": [
    "\n",
    "val data_table: Dataset[Basket] = datastream.select(get_json_object($\"value\",\"$.user\").alias(\"user\"),\n",
    "  get_json_object($\"value\",\"$.item\").alias(\"item\"),\n",
    "  get_json_object($\"value\",\"$.quantity\").cast(\"int\").alias(\"quantity\"),\n",
    "  timestamp_seconds(round(get_json_object($\"value\",\"$.eventtime\")/1000)).alias(\"eventtime\")).as[Basket]"
   ],
   "outputs": [],
   "metadata": {}
  },
  {
   "cell_type": "code",
   "execution_count": null,
   "source": [
    "val grouped_data_ds = data_table.groupByKey(row => (row.user, row.item)).agg(sum(\"quantity\").as[Int])"
   ],
   "outputs": [],
   "metadata": {}
  },
  {
   "cell_type": "code",
   "execution_count": null,
   "source": [
    "\n",
    "\n",
    " def updateBasketQuantity(key: (String, String), transactions: Iterator[Basket],  state: GroupState[BasketState]): BasketState = {\n",
    "\n",
    "    def updateState(currentState: BasketState, quantities: Iterator[Basket]): BasketState = {    \n",
    "       if (quantities.hasNext) {\n",
    "         val currentTransaction = quantities.next()\n",
    "         val newquantity = currentTransaction.quantity\n",
    "         val currentQuantity = if (currentState.quantity + newquantity < 0) 0 else currentState.quantity + newquantity\n",
    "         val newState = new BasketState(key._1, key._2, currentQuantity, currentState.accum + \" \" + newquantity)\n",
    "\n",
    "         updateState(newState, quantities)\n",
    "       }\n",
    "       else currentState\n",
    "    }\n",
    "\n",
    "    if (state.exists)\n",
    "      state.update(updateState(state.get, transactions))\n",
    "    else \n",
    "      state.update(updateState(new BasketState(key._1, key._2, 0, \"\") , transactions))\n",
    "\n",
    "  return state.get\n",
    "}"
   ],
   "outputs": [],
   "metadata": {}
  },
  {
   "cell_type": "code",
   "execution_count": null,
   "source": [
    "val newQuantities = grouped_data_ds.mapGroupsWithState(updateBasketQuantity _)"
   ],
   "outputs": [],
   "metadata": {}
  },
  {
   "cell_type": "code",
   "execution_count": null,
   "source": [
    "val streamingQuery = (newQuantities\n",
    "  .writeStream\n",
    "  .format(\"console\")\n",
    "  .option(\"truncate\", \"false\")\n",
    "  .outputMode(\"complete\")\n",
    "  .trigger(Trigger.ProcessingTime(\"10 second\"))\n",
    "  .start())\n",
    "\n",
    "  streamingQuery.awaitTermination()"
   ],
   "outputs": [],
   "metadata": {}
  },
  {
   "cell_type": "code",
   "execution_count": null,
   "source": [
    "streamingQuery.stop()"
   ],
   "outputs": [],
   "metadata": {}
  }
 ],
 "metadata": {
  "orig_nbformat": 4,
  "language_info": {
   "mimetype": "text/x-scala",
   "name": "scala",
   "codemirror_mode": "text/x-scala",
   "pygments_lexer": "scala",
   "file_extension": ".scala",
   "help_links": [
    {
     "text": "MetaKernel Magics",
     "url": "https://metakernel.readthedocs.io/en/latest/source/README.html"
    }
   ],
   "version": "0.4.1"
  },
  "kernelspec": {
   "name": "spylon-kernel",
   "display_name": "spylon-kernel",
   "language": "scala"
  }
 },
 "nbformat": 4,
 "nbformat_minor": 2
}